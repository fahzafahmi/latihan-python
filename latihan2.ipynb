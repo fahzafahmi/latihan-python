{
 "cells": [
  {
   "cell_type": "markdown",
   "metadata": {
    "id": "7RXS5j5NFJod"
   },
   "source": [
    "#Question 1"
   ]
  },
  {
   "cell_type": "code",
   "execution_count": 32,
   "metadata": {
    "id": "iynpPQU7EbBp"
   },
   "outputs": [
    {
     "name": "stdout",
     "output_type": "stream",
     "text": [
      "Select Operation\n",
      "1. Add\n",
      "2. Substract\n",
      "Enter Choice: 1\n",
      "Enter First Number: 40\n",
      "Enter Second Number: 10\n",
      "40.0 + 10.0 = 50.0\n",
      "-----------------------------------------\n",
      "Another calculation? (y/n): y\n",
      "-----------------------------------------\n",
      "Enter Choice: 2\n",
      "Enter First Number: 40\n",
      "Enter Second Number: 10\n",
      "40.0 - 10.0 = 30.0\n",
      "-----------------------------------------\n",
      "Another calculation? (y/n): n\n",
      "-----------------------------------------\n"
     ]
    }
   ],
   "source": [
    "# Tulis program untuk membuat fungsi kalkulasi() sehingga dapat menerima dua variabel dan menghitung penambahan dan pengurangan. Juga, itu harus mengembalikan penambahan dan pengurangan dalam satu panggilan kembali.\n",
    "\n",
    "def perhitungan (a, b):\n",
    "    # Your Code\n",
    "    return a + b\n",
    "\n",
    "\n",
    "def pengurangan (a,b):\n",
    "    return a - b\n",
    "\n",
    "print(\"Select Operation\")\n",
    "print(\"1. Add\")\n",
    "print(\"2. Substract\")\n",
    "\n",
    "while True:\n",
    "    choice = input(\"Enter Choice: \")\n",
    "    \n",
    "    if choice in('1','2'):\n",
    "        a = float(input(\"Enter First Number: \"))\n",
    "        b = float(input(\"Enter Second Number: \"))\n",
    "        \n",
    "        if choice == '1':\n",
    "            print(a, \"+\", b, \"=\", perhitungan(a,b))\n",
    "        elif choice == '2':\n",
    "            print(a, \"-\", b, \"=\", pengurangan(a,b))\n",
    "        print(\"-----------------------------------------\")\n",
    "        more_calc = input(\"Another calculation? (y/n): \")\n",
    "        print(\"-----------------------------------------\")\n",
    "        if more_calc == \"n\":\n",
    "            break\n",
    "            \n",
    "    else:\n",
    "        print(\"Invalid Input!\")\n",
    "# perhitungan(40, 10), return yang diharapkan 50,30"
   ]
  },
  {
   "cell_type": "markdown",
   "metadata": {
    "id": "JhDGf2bWFN2o"
   },
   "source": [
    "#Question 2"
   ]
  },
  {
   "cell_type": "code",
   "execution_count": 61,
   "metadata": {
    "id": "EPewm0NVFQDi"
   },
   "outputs": [
    {
     "name": "stdout",
     "output_type": "stream",
     "text": [
      "MYSKILL\n"
     ]
    }
   ],
   "source": [
    "# Tentukan fungsi yang menerima kata-kata huruf kecil dan mengembalikan kata-kata huruf besar.\n",
    "\n",
    "def response (txt):\n",
    "    # Your code\n",
    "    return txt.upper()\n",
    "\n",
    "\n",
    "txt = 'myskill'\n",
    "\n",
    "print(response(txt))\n",
    "\n",
    "# response('myskill'), hasil yang diharapkan 'MYSKILL'"
   ]
  },
  {
   "cell_type": "markdown",
   "metadata": {
    "id": "xO77usIWFfyF"
   },
   "source": [
    "#Question 3"
   ]
  },
  {
   "cell_type": "code",
   "execution_count": 63,
   "metadata": {
    "id": "NOC_HkTWFhUW"
   },
   "outputs": [
    {
     "name": "stdout",
     "output_type": "stream",
     "text": [
      "Enter a number: 4\n",
      "4 is Even\n"
     ]
    }
   ],
   "source": [
    "# Tulis program untuk memeriksa apakah angka yang dimasukkan oleh pengguna genap atau ganjil.\n",
    "# petunjuk menggunakan if else\n",
    "\n",
    "num = int(input(\"Enter a number: \"))\n",
    "if (num % 2) == 0:\n",
    "   print(\"{0} is Even\".format(num))\n",
    "else:\n",
    "   print(\"{0} is Odd\".format(num))"
   ]
  },
  {
   "cell_type": "markdown",
   "metadata": {
    "id": "B5U9KC8kFpn9"
   },
   "source": [
    "#Question 4"
   ]
  },
  {
   "cell_type": "code",
   "execution_count": 91,
   "metadata": {
    "id": "JLj1tS1hFrQG"
   },
   "outputs": [
    {
     "data": {
      "text/plain": [
       "['Koala',\n",
       " 'Kucing',\n",
       " 'Rubah',\n",
       " 'Panda',\n",
       " 'Tupai',\n",
       " 'Kemalasan',\n",
       " 'Penguin',\n",
       " 'Lumba-lumba']"
      ]
     },
     "execution_count": 91,
     "metadata": {},
     "output_type": "execute_result"
    }
   ],
   "source": [
    "# Tulis perulangan(loop) for sehingga setiap item dalam daftar tercetak.\n",
    "lst=[\"koala\", \"kucing\", \"rubah\", \"panda\", \"tupai\", \"kemalasan\", \"penguin\", \"lumba-lumba\"]\n",
    "# Type your answer here\n",
    "\n",
    "convert = [name.title() for name in lst]\n",
    "list(convert)"
   ]
  },
  {
   "cell_type": "markdown",
   "metadata": {
    "id": "hGXJ1rpfF6ss"
   },
   "source": [
    "#Question 5"
   ]
  },
  {
   "cell_type": "code",
   "execution_count": null,
   "metadata": {
    "id": "qAsqq0ijF-8V"
   },
   "outputs": [],
   "source": [
    "# Perulangan (Loop) while di bawah mendefinisikan kondisi (x < 10) dan mengulangi instruksi sampai kondisi itu benar.\n",
    "\n",
    "# Type your answer here."
   ]
  },
  {
   "cell_type": "markdown",
   "metadata": {
    "id": "wNlG9aHZGaLq"
   },
   "source": [
    "# Question 6"
   ]
  },
  {
   "cell_type": "code",
   "execution_count": null,
   "metadata": {},
   "outputs": [],
   "source": [
    "# Tulis fungsi lambda yang mengambil z sebagai parameter dan mengembalikan z*11\n",
    "Tetapkan ke variabel bernama: f.\n",
    "\n",
    "#Type your answer here.\n",
    "\n",
    "i = 9\n",
    "\n",
    "f= #Type your answer here.\n",
    "\n",
    "print(f(i))"
   ]
  },
  {
   "cell_type": "markdown",
   "metadata": {
    "id": "Etr5PcipGpCk"
   },
   "source": [
    "#Question 7"
   ]
  },
  {
   "cell_type": "code",
   "execution_count": null,
   "metadata": {
    "id": "P-dea9snGrt9"
   },
   "outputs": [],
   "source": [
    "# Kalikan argumen a dengan argumen b dan kembalikan hasilnya menggunakan lambda\n",
    "\n",
    "x = # Type your answer here.\n",
    "print(x(5, 6))"
   ]
  },
  {
   "cell_type": "markdown",
   "metadata": {
    "id": "HeYIqUF6G2yR"
   },
   "source": [
    "#Question 8"
   ]
  },
  {
   "cell_type": "code",
   "execution_count": null,
   "metadata": {
    "id": "tUP8-AkBG44q"
   },
   "outputs": [],
   "source": [
    "# Tulis while dengan break dengan kondisi Exit dari loop saat i adalah 3:\n",
    "# Type your answer here."
   ]
  },
  {
   "cell_type": "markdown",
   "metadata": {
    "id": "9UWnGKjIHGC4"
   },
   "source": [
    "#Question 9"
   ]
  },
  {
   "cell_type": "code",
   "execution_count": null,
   "metadata": {
    "id": "hyIAidJMHHyg"
   },
   "outputs": [],
   "source": [
    "# tulis untuk loop dengan fungsi range() dan cetak nomor dari 0 hingga 4\n",
    "# Type your answer here."
   ]
  },
  {
   "cell_type": "markdown",
   "metadata": {
    "id": "O3ugWrmUHVzD"
   },
   "source": [
    "#Question 10"
   ]
  },
  {
   "cell_type": "code",
   "execution_count": 106,
   "metadata": {
    "id": "ZTecejKbHX2H"
   },
   "outputs": [
    {
     "data": {
      "text/plain": [
       "[(0, 'blue'), (1, 'red'), (2, 'green'), (3, 'yellow')]"
      ]
     },
     "execution_count": 106,
     "metadata": {},
     "output_type": "execute_result"
    }
   ],
   "source": [
    "# Akses Indeks untuk Loop, print list dan indeksnya dengan for loop\n",
    "colors = ['blue','red','green','yellow']\n",
    "# output yang di harapkan\n",
    "# 0 blue\n",
    "# 1 red\n",
    "# 2 green\n",
    "# 3 yellow\n",
    "\n",
    "list(enumerate(colors))"
   ]
  },
  {
   "cell_type": "code",
   "execution_count": null,
   "metadata": {},
   "outputs": [],
   "source": []
  }
 ],
 "metadata": {
  "colab": {
   "authorship_tag": "ABX9TyNAH7p6tFfzgJKtvo7EbfRl",
   "name": "Exercise 4.ipynb",
   "provenance": []
  },
  "kernelspec": {
   "display_name": "Python 3 (ipykernel)",
   "language": "python",
   "name": "python3"
  },
  "language_info": {
   "codemirror_mode": {
    "name": "ipython",
    "version": 3
   },
   "file_extension": ".py",
   "mimetype": "text/x-python",
   "name": "python",
   "nbconvert_exporter": "python",
   "pygments_lexer": "ipython3",
   "version": "3.9.2"
  }
 },
 "nbformat": 4,
 "nbformat_minor": 1
}
